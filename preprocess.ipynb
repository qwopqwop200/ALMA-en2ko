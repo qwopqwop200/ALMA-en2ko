{
 "cells": [
  {
   "cell_type": "code",
   "execution_count": 1,
   "id": "0ec2130d-0a3b-4bc7-aad2-65549afbaa77",
   "metadata": {},
   "outputs": [
    {
     "name": "stderr",
     "output_type": "stream",
     "text": [
      "/root/anaconda3/envs/ALMA/lib/python3.11/site-packages/tqdm/auto.py:21: TqdmWarning: IProgress not found. Please update jupyter and ipywidgets. See https://ipywidgets.readthedocs.io/en/stable/user_install.html\n",
      "  from .autonotebook import tqdm as notebook_tqdm\n",
      "/root/anaconda3/envs/ALMA/lib/python3.11/site-packages/datasets/table.py:1421: FutureWarning: promote has been superseded by promote_options='default'.\n",
      "  table = cls._concat_blocks(blocks, axis=0)\n"
     ]
    }
   ],
   "source": [
    "import json\n",
    "import random\n",
    "import datasets\n",
    "\n",
    "seed = 42\n",
    "\n",
    "random.seed(seed)\n",
    "dataset = datasets.load_dataset(\"\").shuffle(seed=seed) # aihub dataset\n",
    "\n",
    "sample_idx = random.sample(range(0,len(dataset['train'])),100000)\n",
    "train_dataset = dataset['train'].select(sample_idx).filter(lambda example: example['source'] != 71265)\n",
    "final_idx = random.sample(range(0,len(train_dataset)),len(train_dataset))\n",
    "train_dataset_1 = train_dataset.select(final_idx[:50000]).shuffle(seed=seed)\n",
    "\n",
    "sample_idx = random.sample(range(0,len(dataset['validation'])),12500)\n",
    "val_dataset = dataset['validation'].select(sample_idx).filter(lambda example: example['source'] != 71265)\n",
    "final_idx = random.sample(range(0,len(val_dataset)),4000)\n",
    "val_dataset = val_dataset.select(final_idx).shuffle(seed=seed)\n",
    "\n",
    "sample_idx = random.sample(range(0,len(dataset['test'])),25000)\n",
    "test_dataset = dataset['test'].select(sample_idx).filter(lambda example: example['source'] != 71265)\n",
    "final_idx = random.sample(range(0,len(test_dataset)),8000)\n",
    "test_dataset_1 = test_dataset.select(final_idx[:4000]).shuffle(seed=seed)\n",
    "test_dataset_2 = test_dataset.select(final_idx[4000:]).shuffle(seed=seed)\n",
    "\n",
    "str_data = []\n",
    "for data in train_dataset_1:\n",
    "    str_data.append(str(json.dumps({\"translation\": {\"ko\": data['ko'], \"en\": data['en']}}, ensure_ascii=False)) + '\\n')\n",
    "\n",
    "with open(\"./human_written_data/koen/train.ko-en.json\", \"w\", encoding=\"utf-8\") as f:\n",
    "    f.writelines(str_data)\n",
    "\n",
    "str_data = []\n",
    "for data in val_dataset:\n",
    "    str_data.append({\"translation\": {\"ko\": data['ko'], \"en\": data['en']}})\n",
    "    \n",
    "str_data = str(json.dumps(str_data, ensure_ascii=False))\n",
    "with open(\"./human_written_data/koen/valid.ko-en.json\", \"w\", encoding=\"utf-8\") as f:\n",
    "    f.writelines(str_data)\n",
    "\n",
    "str_data = []\n",
    "for data in test_dataset_1:\n",
    "    str_data.append({\"translation\": {\"ko\": data['ko'], \"en\": data['en']}})\n",
    "    \n",
    "str_data = str(json.dumps(str_data, ensure_ascii=False))\n",
    "with open(\"./human_written_data/koen/test.ko-en.json\", \"w\", encoding=\"utf-8\") as f:\n",
    "    f.writelines(str_data)\n",
    "\n",
    "str_data = []\n",
    "for data in test_dataset_2:\n",
    "    str_data.append({\"translation\": {\"en\": data['en'], \"ko\": data['ko']}})\n",
    "    \n",
    "str_data = str(json.dumps(str_data, ensure_ascii=False))\n",
    "with open(\"./human_written_data/koen/test.en-ko.json\", \"w\", encoding=\"utf-8\") as f:\n",
    "    f.writelines(str_data)"
   ]
  },
  {
   "cell_type": "code",
   "execution_count": null,
   "id": "a0abb77e",
   "metadata": {},
   "outputs": [],
   "source": []
  },
  {
   "cell_type": "code",
   "execution_count": null,
   "id": "8d1e709a-2cb9-463a-bb82-687754238ac3",
   "metadata": {},
   "outputs": [],
   "source": []
  }
 ],
 "metadata": {
  "kernelspec": {
   "display_name": "Python 3 (ipykernel)",
   "language": "python",
   "name": "python3"
  },
  "language_info": {
   "codemirror_mode": {
    "name": "ipython",
    "version": 3
   },
   "file_extension": ".py",
   "mimetype": "text/x-python",
   "name": "python",
   "nbconvert_exporter": "python",
   "pygments_lexer": "ipython3",
   "version": "3.11.7"
  }
 },
 "nbformat": 4,
 "nbformat_minor": 5
}
